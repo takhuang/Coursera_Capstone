{
 "cells": [
  {
   "cell_type": "markdown",
   "metadata": {},
   "source": [
    "# Segmenting Hong Kong MTR Station Areas"
   ]
  },
  {
   "cell_type": "markdown",
   "metadata": {},
   "source": [
    "## 1. Introduction"
   ]
  },
  {
   "cell_type": "markdown",
   "metadata": {},
   "source": [
    "Hong Kong is a major Asian destination for tourists. On average, more than 60 million tourists visit Hong Kong every year. When tourists visit Hong Kong, the most commonly used public transportation is MTR (Mass Transit Railway). The MTR system in Hong Kong currently has 95 heavy rail stations as of March 2020, and the daily ridership is around five million.\n",
    "\n",
    "In this project, I would like to provide some guidance to tourists who are not very familiar with Hong Kong but may plan to visit it. As tourists are likely to make use of the MTR system to move around when they are in Hong Kong, I use MTR stations to represent different areas in town. I segment MTR station areas and explore the top venue categories in each area in Hong Kong. The segmentation analysis will be interpreted together with the population density of different districts in Hong Kong. Such information is helpful for tourists to plan their trip in Hong Kong."
   ]
  },
  {
   "cell_type": "markdown",
   "metadata": {},
   "source": [
    "## 2. Data"
   ]
  },
  {
   "cell_type": "markdown",
   "metadata": {},
   "source": [
    "### 2.1. List of MTR stations "
   ]
  },
  {
   "cell_type": "markdown",
   "metadata": {},
   "source": [
    "A table of MTR heavy rail stations is available on Wikipedia. However, this table of MTR stations has duplicates because some stations are in multiple lines. In addition, if a station used a different name in the past, the table will show the current and the old station names in the same cell. Therefore, I will clean the table scraped from Wikipedia to make sure that it only shows the 95 current heavy rail stations of the MTR system in Hong Kong."
   ]
  },
  {
   "cell_type": "markdown",
   "metadata": {},
   "source": [
    "### 2.2. Geolocations of MTR stations"
   ]
  },
  {
   "cell_type": "markdown",
   "metadata": {},
   "source": [
    "The geolocations (latitudes and longitudes) of the MTR stations will be fetched with ArcGIS. ArcGIS is a geographic information system for working with maps and geographic information maintained by Esri."
   ]
  },
  {
   "cell_type": "markdown",
   "metadata": {},
   "source": [
    "### 2.3. Venues in station areas"
   ]
  },
  {
   "cell_type": "markdown",
   "metadata": {},
   "source": [
    "The Foursquare API will be used to explore the station areas. At maximum 150 venues within the 500-meter radius of each station will be fectched. The frequencies of different categories of venues are used for the segmentation and clustering analysis."
   ]
  },
  {
   "cell_type": "markdown",
   "metadata": {},
   "source": [
    "### 2.4. List of districts in Kong Kong"
   ]
  },
  {
   "cell_type": "markdown",
   "metadata": {},
   "source": [
    "As I will also visualize the population density in Hong Kong, a list of Hong Kong districts will also be scraped from Wikipedia. A dataframe will be created to show the population densities of the 18 districts in Hong Kong."
   ]
  },
  {
   "cell_type": "markdown",
   "metadata": {},
   "source": [
    "### 2.5. Geolocations of Hong Kong districts"
   ]
  },
  {
   "cell_type": "markdown",
   "metadata": {},
   "source": [
    "As I plan to use choropleth to visualize the population densities in different Hong Kong districts, I will used the GeoJSON file provided by Esri.  "
   ]
  }
 ],
 "metadata": {
  "kernelspec": {
   "display_name": "Python 3",
   "language": "python",
   "name": "python3"
  },
  "language_info": {
   "codemirror_mode": {
    "name": "ipython",
    "version": 3
   },
   "file_extension": ".py",
   "mimetype": "text/x-python",
   "name": "python",
   "nbconvert_exporter": "python",
   "pygments_lexer": "ipython3",
   "version": "3.7.4"
  }
 },
 "nbformat": 4,
 "nbformat_minor": 2
}
